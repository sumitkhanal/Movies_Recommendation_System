{
 "cells": [
  {
   "cell_type": "markdown",
   "id": "7a339337",
   "metadata": {},
   "source": [
    "# Recommendation System using Matrix Factorization in Python\n",
    "###### The Matix\n",
    "\n",
    "\n",
    "### First we import the libraries necessary to us"
   ]
  },
  {
   "cell_type": "code",
   "execution_count": 3,
   "id": "59b71a7c",
   "metadata": {},
   "outputs": [],
   "source": [
    "import pandas as pd\n",
    "import numpy as np\n",
    "import matplotlib.pyplot as plt\n",
    "import seaborn as sns\n",
    "%matplotlib inline"
   ]
  },
  {
   "cell_type": "markdown",
   "id": "e95f24b9",
   "metadata": {},
   "source": [
    "### Then we import the datasets\n",
    "### Here ratings stores the dataset of the ratings and movies stores the dataset for movies."
   ]
  },
  {
   "cell_type": "code",
   "execution_count": 6,
   "id": "315e2d87",
   "metadata": {},
   "outputs": [],
   "source": [
    "ratings=\"https://github.com/couturierc/tutorials/raw/master/recommender_system/data/ratings.csv\"\n",
    "movies=\"https://github.com/couturierc/tutorials/raw/master/recommender_system/data/movies.csv\"\n",
    "\n",
    "\n",
    "# If data stored locally\n",
    "# ratings=\"./data/ratings.csv\"\n",
    "# movies=\"./data/movies.csv\"\n",
    "\n",
    "df_ratings = pd.read_csv(ratings, sep=',')                     # read_csv reads the given link i.e ratings and the separation used is a comma ','\n",
    "df_ratings.columns = ['userId', 'itemId', 'rating', 'timestamp']\n",
    "df_movies = pd.read_csv(movies, sep=',')                       # read_csv reads the given link i.e movies and the separation used is a comma ','\n",
    "df_movies.columns = ['itemId', 'title', 'genres']"
   ]
  },
  {
   "cell_type": "code",
   "execution_count": null,
   "id": "7fa2fde4",
   "metadata": {},
   "outputs": [],
   "source": []
  }
 ],
 "metadata": {
  "kernelspec": {
   "display_name": "Python 3 (ipykernel)",
   "language": "python",
   "name": "python3"
  },
  "language_info": {
   "codemirror_mode": {
    "name": "ipython",
    "version": 3
   },
   "file_extension": ".py",
   "mimetype": "text/x-python",
   "name": "python",
   "nbconvert_exporter": "python",
   "pygments_lexer": "ipython3",
   "version": "3.9.12"
  }
 },
 "nbformat": 4,
 "nbformat_minor": 5
}
